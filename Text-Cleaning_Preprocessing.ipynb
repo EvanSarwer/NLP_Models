{
 "cells": [
  {
   "cell_type": "code",
   "execution_count": 1,
   "id": "ee6a3839",
   "metadata": {},
   "outputs": [],
   "source": [
    "import numpy as np \n",
    "import pandas as pd "
   ]
  },
  {
   "cell_type": "code",
   "execution_count": 2,
   "id": "eea41db9",
   "metadata": {},
   "outputs": [
    {
     "name": "stdout",
     "output_type": "stream",
     "text": [
      "                                          Review_text  Review_class\n",
      "0   I have bought several of the Vitality canned d...             1\n",
      "1   Product arrived labeled as Jumbo Salted Peanut...             0\n",
      "2   This is a confection that has been around a fe...             1\n",
      "3   If you are looking for the secret ingredient i...             0\n",
      "4   Great taffy at a great price.  There was a wid...             1\n",
      "5   I got a wild hair for taffy and ordered this f...             1\n",
      "6   This saltwater taffy had great flavors and was...             1\n",
      "7   This taffy is so good.  It is very soft and ch...             1\n",
      "8   Right now I'm mostly just sprouting this so my...             1\n",
      "9   This is a very healthy dog food. Good for thei...             1\n",
      "10  I don't know if it's the cactus or the tequila...             1\n",
      "11  One of my boys needed to lose some weight and ...             1\n",
      "12  My cats have been happily eating Felidae Plati...             0\n",
      "13  good flavor! these came securely packed... the...             1\n",
      "14  The Strawberry Twizzlers are my guilty pleasur...             1\n",
      "(10000, 2)\n"
     ]
    }
   ],
   "source": [
    "data_rev = pd.read_csv(\"Reviews.csv\", delimiter=',', header=None)\n",
    "new_data = data_rev. iloc[:, [9,6]]\n",
    "new_data.columns = [\"Review_text\", \"Review_class\"]\n",
    "\n",
    "updated_negetive = new_data['Review_class'] < 3\n",
    "updated_negetive\n",
    "new_data.loc[updated_negetive, 'Review_class'] = 0\n",
    "\n",
    "updated_positive = new_data['Review_class'] > 3\n",
    "updated_positive\n",
    "new_data.loc[updated_positive, 'Review_class'] = 1\n",
    "\n",
    "\n",
    "#new_data.iloc[[*range(1, 5), *range(10, 13)]]\n",
    "new_data = new_data.iloc[[*range(0, 10000)]]\n",
    "\n",
    "print(new_data.head(15))\n",
    "print(new_data.shape)\n",
    "#data = pd.concat([data_imdb, data_amazon, data_yelp])"
   ]
  },
  {
   "cell_type": "code",
   "execution_count": 3,
   "id": "d29a2776",
   "metadata": {},
   "outputs": [
    {
     "name": "stdout",
     "output_type": "stream",
     "text": [
      "                                           Review_text  Review_class\n",
      "45   This seems a little more wholesome than some o...             3\n",
      "47   The flavors are good.  However, I do not see a...             3\n",
      "49   This is the same stuff you can buy at the big ...             3\n",
      "53   we're used to spicy foods down here in south t...             3\n",
      "60   Watch your prices with this.  While the assort...             3\n",
      "68   If you're impulsive like me, then $6 is ok. Do...             3\n",
      "78   The taste was great, but the berries had melte...             3\n",
      "83   While my dogs like all of the flavors that we ...             3\n",
      "84   Awesome dog food. However, when given to my \"B...             3\n",
      "106  not what I was expecting in terms of the compa...             3\n",
      "129  I LOVE spicy ramen, but for whatever reasons t...             3\n",
      "144  I might be mistaken, but it appears that the p...             3\n",
      "148  These remind me of dog treats I made once usin...             3\n",
      "161  I have always purchased Star-Kist tuna but tho...             3\n",
      "169  The item over all was fine, but the Banana Hea...             3\n",
      "(862, 2)\n",
      "                                          Review_text  Review_class\n",
      "0   I have bought several of the Vitality canned d...             1\n",
      "1   Product arrived labeled as Jumbo Salted Peanut...             0\n",
      "2   This is a confection that has been around a fe...             1\n",
      "3   If you are looking for the secret ingredient i...             0\n",
      "4   Great taffy at a great price.  There was a wid...             1\n",
      "5   I got a wild hair for taffy and ordered this f...             1\n",
      "6   This saltwater taffy had great flavors and was...             1\n",
      "7   This taffy is so good.  It is very soft and ch...             1\n",
      "8   Right now I'm mostly just sprouting this so my...             1\n",
      "9   This is a very healthy dog food. Good for thei...             1\n",
      "10  I don't know if it's the cactus or the tequila...             1\n",
      "11  One of my boys needed to lose some weight and ...             1\n",
      "12  My cats have been happily eating Felidae Plati...             0\n",
      "13  good flavor! these came securely packed... the...             1\n",
      "14  The Strawberry Twizzlers are my guilty pleasur...             1\n",
      "(9138, 2)\n"
     ]
    }
   ],
   "source": [
    "#data_list = new_data.values.tolist()\n",
    "#data_list\n",
    "#print(data_list[0][1])\n",
    "#new_data = pd.DataFrame(data_list)\n",
    "\n",
    "delete_df_filtered = new_data[new_data['Review_class'] == 3] \n",
    "# Print the new dataframe\n",
    "print(delete_df_filtered.head(15))\n",
    "# Print the shape of the dataframe\n",
    "print(delete_df_filtered.shape)\n",
    "\n",
    "delete_index = new_data[new_data['Review_class'] == 3].index\n",
    "new_data.drop(delete_index , inplace=True)\n",
    "print(new_data.head(15))\n",
    "print(new_data.shape)\n"
   ]
  },
  {
   "cell_type": "code",
   "execution_count": 4,
   "id": "d790f5ac",
   "metadata": {},
   "outputs": [
    {
     "data": {
      "text/html": [
       "<div>\n",
       "<style scoped>\n",
       "    .dataframe tbody tr th:only-of-type {\n",
       "        vertical-align: middle;\n",
       "    }\n",
       "\n",
       "    .dataframe tbody tr th {\n",
       "        vertical-align: top;\n",
       "    }\n",
       "\n",
       "    .dataframe thead th {\n",
       "        text-align: right;\n",
       "    }\n",
       "</style>\n",
       "<table border=\"1\" class=\"dataframe\">\n",
       "  <thead>\n",
       "    <tr style=\"text-align: right;\">\n",
       "      <th></th>\n",
       "      <th>Review_text</th>\n",
       "      <th>Review_class</th>\n",
       "    </tr>\n",
       "  </thead>\n",
       "  <tbody>\n",
       "    <tr>\n",
       "      <th>0</th>\n",
       "      <td>I have bought several of the Vitality canned d...</td>\n",
       "      <td>1</td>\n",
       "    </tr>\n",
       "    <tr>\n",
       "      <th>1</th>\n",
       "      <td>Product arrived labeled as Jumbo Salted Peanut...</td>\n",
       "      <td>0</td>\n",
       "    </tr>\n",
       "    <tr>\n",
       "      <th>2</th>\n",
       "      <td>This is a confection that has been around a fe...</td>\n",
       "      <td>1</td>\n",
       "    </tr>\n",
       "    <tr>\n",
       "      <th>3</th>\n",
       "      <td>If you are looking for the secret ingredient i...</td>\n",
       "      <td>0</td>\n",
       "    </tr>\n",
       "    <tr>\n",
       "      <th>4</th>\n",
       "      <td>Great taffy at a great price.  There was a wid...</td>\n",
       "      <td>1</td>\n",
       "    </tr>\n",
       "    <tr>\n",
       "      <th>5</th>\n",
       "      <td>I got a wild hair for taffy and ordered this f...</td>\n",
       "      <td>1</td>\n",
       "    </tr>\n",
       "    <tr>\n",
       "      <th>6</th>\n",
       "      <td>This saltwater taffy had great flavors and was...</td>\n",
       "      <td>1</td>\n",
       "    </tr>\n",
       "    <tr>\n",
       "      <th>7</th>\n",
       "      <td>This taffy is so good.  It is very soft and ch...</td>\n",
       "      <td>1</td>\n",
       "    </tr>\n",
       "    <tr>\n",
       "      <th>8</th>\n",
       "      <td>Right now I'm mostly just sprouting this so my...</td>\n",
       "      <td>1</td>\n",
       "    </tr>\n",
       "    <tr>\n",
       "      <th>9</th>\n",
       "      <td>This is a very healthy dog food. Good for thei...</td>\n",
       "      <td>1</td>\n",
       "    </tr>\n",
       "    <tr>\n",
       "      <th>10</th>\n",
       "      <td>I don't know if it's the cactus or the tequila...</td>\n",
       "      <td>1</td>\n",
       "    </tr>\n",
       "    <tr>\n",
       "      <th>11</th>\n",
       "      <td>One of my boys needed to lose some weight and ...</td>\n",
       "      <td>1</td>\n",
       "    </tr>\n",
       "    <tr>\n",
       "      <th>12</th>\n",
       "      <td>My cats have been happily eating Felidae Plati...</td>\n",
       "      <td>0</td>\n",
       "    </tr>\n",
       "    <tr>\n",
       "      <th>13</th>\n",
       "      <td>good flavor! these came securely packed... the...</td>\n",
       "      <td>1</td>\n",
       "    </tr>\n",
       "    <tr>\n",
       "      <th>14</th>\n",
       "      <td>The Strawberry Twizzlers are my guilty pleasur...</td>\n",
       "      <td>1</td>\n",
       "    </tr>\n",
       "    <tr>\n",
       "      <th>15</th>\n",
       "      <td>My daughter loves twizzlers and this shipment ...</td>\n",
       "      <td>1</td>\n",
       "    </tr>\n",
       "    <tr>\n",
       "      <th>16</th>\n",
       "      <td>I love eating them and they are good for watch...</td>\n",
       "      <td>0</td>\n",
       "    </tr>\n",
       "    <tr>\n",
       "      <th>17</th>\n",
       "      <td>I am very satisfied with my Twizzler purchase....</td>\n",
       "      <td>1</td>\n",
       "    </tr>\n",
       "    <tr>\n",
       "      <th>18</th>\n",
       "      <td>Twizzlers, Strawberry my childhood favorite ca...</td>\n",
       "      <td>1</td>\n",
       "    </tr>\n",
       "    <tr>\n",
       "      <th>19</th>\n",
       "      <td>Candy was delivered very fast and was purchase...</td>\n",
       "      <td>1</td>\n",
       "    </tr>\n",
       "  </tbody>\n",
       "</table>\n",
       "</div>"
      ],
      "text/plain": [
       "                                          Review_text  Review_class\n",
       "0   I have bought several of the Vitality canned d...             1\n",
       "1   Product arrived labeled as Jumbo Salted Peanut...             0\n",
       "2   This is a confection that has been around a fe...             1\n",
       "3   If you are looking for the secret ingredient i...             0\n",
       "4   Great taffy at a great price.  There was a wid...             1\n",
       "5   I got a wild hair for taffy and ordered this f...             1\n",
       "6   This saltwater taffy had great flavors and was...             1\n",
       "7   This taffy is so good.  It is very soft and ch...             1\n",
       "8   Right now I'm mostly just sprouting this so my...             1\n",
       "9   This is a very healthy dog food. Good for thei...             1\n",
       "10  I don't know if it's the cactus or the tequila...             1\n",
       "11  One of my boys needed to lose some weight and ...             1\n",
       "12  My cats have been happily eating Felidae Plati...             0\n",
       "13  good flavor! these came securely packed... the...             1\n",
       "14  The Strawberry Twizzlers are my guilty pleasur...             1\n",
       "15  My daughter loves twizzlers and this shipment ...             1\n",
       "16  I love eating them and they are good for watch...             0\n",
       "17  I am very satisfied with my Twizzler purchase....             1\n",
       "18  Twizzlers, Strawberry my childhood favorite ca...             1\n",
       "19  Candy was delivered very fast and was purchase...             1"
      ]
     },
     "execution_count": 4,
     "metadata": {},
     "output_type": "execute_result"
    }
   ],
   "source": [
    "new_data.head(20)"
   ]
  },
  {
   "cell_type": "code",
   "execution_count": 5,
   "id": "56d05b31",
   "metadata": {},
   "outputs": [
    {
     "name": "stderr",
     "output_type": "stream",
     "text": [
      "[nltk_data] Downloading package punkt to\n",
      "[nltk_data]     C:\\Users\\user\\AppData\\Roaming\\nltk_data...\n",
      "[nltk_data]   Package punkt is already up-to-date!\n",
      "[nltk_data] Downloading package stopwords to\n",
      "[nltk_data]     C:\\Users\\user\\AppData\\Roaming\\nltk_data...\n",
      "[nltk_data]   Package stopwords is already up-to-date!\n"
     ]
    }
   ],
   "source": [
    "import re\n",
    "import nltk\n",
    "nltk.download('punkt')\n",
    "nltk.download('stopwords')\n",
    "import string\n",
    "from nltk.tokenize import word_tokenize\n",
    "from nltk.corpus import stopwords\n",
    "from nltk.stem.porter import PorterStemmer"
   ]
  },
  {
   "cell_type": "code",
   "execution_count": 10,
   "id": "a1c3124e",
   "metadata": {},
   "outputs": [
    {
     "data": {
      "text/plain": [
       "['i have bought several of the vitality canned dog food products and have found them all to be of good quality the product looks more like a stew than a processed meat and it smells better my labrador is finicky and she appreciates this product better than most',\n",
       " 'product arrived labeled as jumbo salted peanutsthe peanuts were actually small sized unsalted not sure if this was an error or if the vendor intended to represent the product as jumbo',\n",
       " 'this is a confection that has been around a few centuries it is a light pillowy citrus gelatin with nuts in this case filberts and it is cut into tiny squares and then liberally coated with powdered sugar and it is a tiny mouthful of heaven not too chewy and very flavorful i highly recommend this yummy treat if you are familiar with the story of cs lewis the lion the witch and the wardrobe this is the treat that seduces edmund into selling out his brother and sisters to the witch',\n",
       " 'if you are looking for the secret ingredient in robitussin i believe i have found it i got this in addition to the root beer extract i ordered which was good and made some cherry soda the flavor is very medicinal',\n",
       " 'great taffy at a great price there was a wide assortment of yummy taffy delivery was very quick if your a taffy lover this is a deal',\n",
       " 'i got a wild hair for taffy and ordered this five pound bag the taffy was all very enjoyable with many flavors watermelon root beer melon peppermint grape etc my only complaint is there was a bit too much redblack licoriceflavored pieces just not my particular favorites between me my kids and my husband this lasted only two weeks i would recommend this brand of taffy it was a delightful treat',\n",
       " 'this saltwater taffy had great flavors and was very soft and chewy each candy was individually wrapped well none of the candies were stuck together which did happen in the expensive version fralinger s would highly recommend this candy i served it at a beachthemed party and everyone loved it',\n",
       " 'this taffy is so good it is very soft and chewy the flavors are amazing i would definitely recommend you buying it very satisfying',\n",
       " 'right now i am mostly just sprouting this so my cats can eat the grass they love it i rotate it around with wheatgrass and rye too',\n",
       " 'this is a very healthy dog food good for their digestion also good for small puppies my dog eats her required amount at every feeding',\n",
       " 'i do not know if it is the cactus or the tequila or just the unique combination of ingredients but the flavour of this hot sauce makes it one of a kind we picked up a bottle once on a trip we were on and brought it back home with us and were totally blown away when we realized that we simply could not find it anywhere in our city we were bummedbr br now because of the magic of the internet we have a case of the sauce and are ecstatic because of itbr br if you love hot saucei mean really love hot sauce but do not want a sauce that tastelessly burns your throat grab a bottle of tequila picante gourmet de inclan just realize that once you taste it you will never want to use any other saucebr br thank you for the personal incredible service',\n",
       " 'one of my boys needed to lose some weight and the other did nt i put this food on the floor for the chubby guy and the proteinrich no byproduct food up higher where only my skinny boy can jump the higher food sits going stale they both really go for this food and my chubby boy has been losing about an ounce a week',\n",
       " 'my cats have been happily eating felidae platinum for more than two years i just got a new bag and the shape of the food is different they tried the new food when i first put it in their bowls and now the bowls sit full and the kitties will not touch the food i have noticed similar reviews related to formula changes in the past unfortunately i now need to find a new food that my cats will eat',\n",
       " 'good flavor these came securely packed they were fresh and delicious i love these twizzlers',\n",
       " 'the strawberry twizzlers are my guilty pleasure yummy six pounds will be around for a while with my son and i',\n",
       " 'my daughter loves twizzlers and this shipment of six pounds really hit the spot it is exactly what you would expectsix packages of strawberry twizzlers',\n",
       " 'i love eating them and they are good for watching tv and looking at movies it is not too sweet i like to transfer them to a zip lock baggie so they stay fresh so i can take my time eating them',\n",
       " 'i am very satisfied with my twizzler purchase i shared these with others and we have all enjoyed them i will definitely be ordering more',\n",
       " 'twizzlers strawberry my childhood favorite candy made in lancaster pennsylvania by y s candies inc one of the oldest confectionery firms in the united states now a subsidiary of the hershey company the company was established in as young and smylie they also make apple licorice twists green color and blue raspberry licorice twists i like them allbr br i keep it in a dry cool place because is not recommended it to put it in the fridge according to the guinness book of records the longest licorice twist ever made measured feet m and weighted pounds kg and was made by y s candies inc this recordbreaking twist became a guinness world record on july this product is kosher thank you',\n",
       " 'candy was delivered very fast and was purchased at a reasonable price i was home bound and unable to get to a store so this was perfect for me']"
      ]
     },
     "execution_count": 10,
     "metadata": {},
     "output_type": "execute_result"
    }
   ],
   "source": [
    "def clean_text(df):\n",
    "    all_reviews = list()\n",
    "    lines = df[\"Review_text\"].values.tolist()\n",
    "    for text in lines:\n",
    "        text = text.lower()\n",
    "        \n",
    "        pattern = re.compile('http[s]?://(?:[a-zA-Z]|[0-9]|[$-_@.&+]|[!*\\(\\),]|(?:%[0-9a-fA-F][0-9a-fA-F]))+')\n",
    "        text = pattern.sub('', text)\n",
    "        \n",
    "        emoji = re.compile(\"[\"\n",
    "                           u\"\\U0001F600-\\U0001FFFF\"  # emoticons\n",
    "                           u\"\\U0001F300-\\U0001F5FF\"  # symbols & pictographs\n",
    "                           u\"\\U0001F680-\\U0001F6FF\"  # transport & map symbols\n",
    "                           u\"\\U0001F1E0-\\U0001F1FF\"  # flags (iOS)\n",
    "                           u\"\\U00002702-\\U000027B0\"\n",
    "                           u\"\\U000024C2-\\U0001F251\"\n",
    "                           \"]+\", flags=re.UNICODE)\n",
    "        text = emoji.sub(r'', text)\n",
    "        \n",
    "        text = re.sub(r\"i'm\", \"i am\", text)\n",
    "        text = re.sub(r\"he's\", \"he is\", text)\n",
    "        text = re.sub(r\"she's\", \"she is\", text)\n",
    "        text = re.sub(r\"that's\", \"that is\", text)        \n",
    "        text = re.sub(r\"what's\", \"what is\", text)\n",
    "        text = re.sub(r\"where's\", \"where is\", text) \n",
    "        text = re.sub(r\"\\'ll\", \" will\", text)  \n",
    "        text = re.sub(r\"\\'ve\", \" have\", text)  \n",
    "        text = re.sub(r\"\\'re\", \" are\", text)\n",
    "        text = re.sub(r\"\\'d\", \" would\", text)\n",
    "        text = re.sub(r\"\\'ve\", \" have\", text)\n",
    "        text = re.sub(r\"won't\", \"will not\", text)\n",
    "        text = re.sub(r\"don't\", \"do not\", text)\n",
    "        text = re.sub(r\"did't\", \"did not\", text)\n",
    "        text = re.sub(r\"can't\", \"can not\", text)\n",
    "        text = re.sub(r\"it's\", \"it is\", text)\n",
    "        text = re.sub(r\"couldn't\", \"could not\", text)\n",
    "        text = re.sub(r\"have't\", \"have not\", text)\n",
    "        \n",
    "        text = re.sub(r\"[,.\\\"!@#$%^&*(){}?/;`~:<>+=-]\", \"\", text)\n",
    "        tokens = word_tokenize(text)\n",
    "        table = str.maketrans('', '', string.punctuation)\n",
    "        stripped = [w.translate(table) for w in tokens]\n",
    "        words = [word for word in stripped if word.isalpha()]\n",
    "  #      stop_words = set(stopwords.words(\"english\"))\n",
    " #       stop_words.discard(\"not\")\n",
    " #       words = [w for w in words if not w in stop_words]\n",
    "        words = ' '.join(words)\n",
    "        all_reviews.append(words)\n",
    "    return all_reviews\n",
    "\n",
    "all_reviews = clean_text(new_data)\n",
    "all_reviews[0:20]"
   ]
  },
  {
   "cell_type": "code",
   "execution_count": 13,
   "id": "7a0dc22b",
   "metadata": {},
   "outputs": [
    {
     "data": {
      "text/plain": [
       "['i will suggest you to open and search nerdy wits']"
      ]
     },
     "execution_count": 13,
     "metadata": {},
     "output_type": "execute_result"
    }
   ],
   "source": [
    "new_data = pd.DataFrame([\"I'll suggest you to open https://www.google.com/ and search NERDY WITS\"])\n",
    "new_data.columns = [\"Review_text\"]\n",
    "cleaned_text = clean_text(new_data)\n",
    "cleaned_text"
   ]
  },
  {
   "cell_type": "code",
   "execution_count": 11,
   "id": "565c8c68",
   "metadata": {},
   "outputs": [
    {
     "name": "stdout",
     "output_type": "stream",
     "text": [
      "(9138, 7767)\n",
      "(9138,)\n"
     ]
    }
   ],
   "source": [
    "from sklearn.feature_extraction.text import TfidfVectorizer\n",
    "TV = TfidfVectorizer(min_df=3)   \n",
    "X = TV.fit_transform(all_reviews).toarray()\n",
    "#y = new_data.as_matrix([\"Review_class\"])\n",
    "y = new_data['Review_class'].to_numpy()\n",
    "print(np.shape(X))\n",
    "print(np.shape(y))"
   ]
  },
  {
   "cell_type": "code",
   "execution_count": 12,
   "id": "7374e8fc",
   "metadata": {},
   "outputs": [
    {
     "name": "stdout",
     "output_type": "stream",
     "text": [
      "0.6460612691466083\n",
      "0.7630904430611497\n",
      "0.8793248945147679\n"
     ]
    }
   ],
   "source": [
    "from sklearn.model_selection import train_test_split\n",
    "X_train, X_test, y_train, y_test = train_test_split(X, y, test_size = 0.2, random_state = 42)\n",
    "\n",
    "# from sklearn.tree import DecisionTreeClassifier\n",
    "# model = DecisionTreeClassifier(criterion=\"entropy\", random_state=41)\n",
    "from sklearn.naive_bayes import GaussianNB\n",
    "model = GaussianNB()\n",
    "model.fit(X_train,y_train)\n",
    "\n",
    "y_pred = model.predict(X_test)\n",
    "\n",
    "from sklearn.metrics import accuracy_score, f1_score, precision_score\n",
    "print(accuracy_score(y_test, y_pred))\n",
    "print(f1_score(y_test, y_pred))\n",
    "print(precision_score(y_test, y_pred))"
   ]
  },
  {
   "cell_type": "code",
   "execution_count": null,
   "id": "3ae5a96e",
   "metadata": {},
   "outputs": [],
   "source": []
  }
 ],
 "metadata": {
  "kernelspec": {
   "display_name": "Python 3 (ipykernel)",
   "language": "python",
   "name": "python3"
  },
  "language_info": {
   "codemirror_mode": {
    "name": "ipython",
    "version": 3
   },
   "file_extension": ".py",
   "mimetype": "text/x-python",
   "name": "python",
   "nbconvert_exporter": "python",
   "pygments_lexer": "ipython3",
   "version": "3.9.13"
  }
 },
 "nbformat": 4,
 "nbformat_minor": 5
}
